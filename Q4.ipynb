{
 "cells": [
  {
   "cell_type": "code",
   "execution_count": 34,
   "metadata": {
    "collapsed": true
   },
   "outputs": [],
   "source": [
    "import pandas as pd\n",
    "import urllib.request\n",
    "from bs4 import BeautifulSoup"
   ]
  },
  {
   "cell_type": "code",
   "execution_count": 35,
   "metadata": {
    "collapsed": true
   },
   "outputs": [],
   "source": [
    "def saveInBase(data, name):\n",
    "    import sqlite3\n",
    "    conn = sqlite3.connect(name)\n",
    "    data.to_sql('bae', conn)\n",
    "    conn.close()"
   ]
  },
  {
   "cell_type": "code",
   "execution_count": 36,
   "metadata": {
    "collapsed": true
   },
   "outputs": [],
   "source": [
    "def parsePageInMusic(soup):\n",
    "    \"\"\"\n",
    "    parse page\n",
    "    :param: input soup object\n",
    "    :return list\n",
    "    \"\"\"\n",
    "    result = list()\n",
    "    tables = soup.find_all('table', { 'class':\"wikitable\",'width':'100%'}) \n",
    "    for table in tables:\n",
    "        rows = table.findChildren('tr')\n",
    "        month = ''\n",
    "        day = None\n",
    "        for row in rows:  \n",
    "            cells = row.findChildren('td')\n",
    "            album = None\n",
    "            artist = None\n",
    "            notes = None\n",
    "            if len(cells) == 5:\n",
    "                month = ('').join(cells[0].b.contents[::2]).lower().title()\n",
    "                day = int(cells[1].string)\n",
    "                album = cells[2].string\n",
    "                artist = cells[3].string\n",
    "                notes = cells[4].string\n",
    "            elif len(cells) == 4:\n",
    "                try:\n",
    "                    day = int(cells[0].string)\n",
    "                except (ValueError, TypeError):\n",
    "                    day = day\n",
    "                \n",
    "                album = cells[1].string\n",
    "                artist = cells[2].string\n",
    "                notes = cells[3].string\n",
    "            elif len(cells) == 3:\n",
    "                album = cells[0].string\n",
    "                artist = cells[1].string\n",
    "                notes = cells[2].string            \n",
    "\n",
    "            else:\n",
    "                pass\n",
    "            \n",
    "            result.append(dict(month=month, day=day,album=album,artist=artist,notes=notes))\n",
    "        \n",
    "    return result       "
   ]
  },
  {
   "cell_type": "code",
   "execution_count": 37,
   "metadata": {
    "collapsed": true
   },
   "outputs": [],
   "source": [
    "def downloadPage(url):\n",
    "    \"\"\"\n",
    "    download raw page\n",
    "    :return soup object\n",
    "    \"\"\"\n",
    "    with urllib.request.urlopen(url) as response:\n",
    "        html = response.read()\n",
    "\n",
    "    return BeautifulSoup(html)"
   ]
  },
  {
   "cell_type": "code",
   "execution_count": 38,
   "metadata": {},
   "outputs": [
    {
     "name": "stderr",
     "output_type": "stream",
     "text": [
      "/usr/local/lib/python3.5/dist-packages/bs4/__init__.py:181: UserWarning: No parser was explicitly specified, so I'm using the best available HTML parser for this system (\"html5lib\"). This usually isn't a problem, but if you run this code on another system, or in a different virtual environment, it may use a different parser and behave differently.\n",
      "\n",
      "The code that caused this warning is on line 184 of the file /usr/lib/python3.5/runpy.py. To get rid of this warning, change code that looks like this:\n",
      "\n",
      " BeautifulSoup(YOUR_MARKUP})\n",
      "\n",
      "to this:\n",
      "\n",
      " BeautifulSoup(YOUR_MARKUP, \"html5lib\")\n",
      "\n",
      "  markup_type=markup_type))\n"
     ]
    }
   ],
   "source": [
    "urls = [ 'https://en.wikipedia.org/wiki/{}_in_music'.format(i) for i in range(1990,2000)]\n",
    "table = list()\n",
    "for url in urls:\n",
    "    soup = downloadPage(url)\n",
    "    table.extend(parsePageInMusic(soup))"
   ]
  },
  {
   "cell_type": "code",
   "execution_count": 39,
   "metadata": {},
   "outputs": [],
   "source": [
    "## create data frame and save to base\n",
    "data = pd.DataFrame(table)\n",
    "saveInBase(data, 'baseq3_1.sqlite.db')"
   ]
  },
  {
   "cell_type": "code",
   "execution_count": 40,
   "metadata": {},
   "outputs": [
    {
     "name": "stderr",
     "output_type": "stream",
     "text": [
      "/usr/local/lib/python3.5/dist-packages/bs4/__init__.py:181: UserWarning: No parser was explicitly specified, so I'm using the best available HTML parser for this system (\"html5lib\"). This usually isn't a problem, but if you run this code on another system, or in a different virtual environment, it may use a different parser and behave differently.\n",
      "\n",
      "The code that caused this warning is on line 184 of the file /usr/lib/python3.5/runpy.py. To get rid of this warning, change code that looks like this:\n",
      "\n",
      " BeautifulSoup(YOUR_MARKUP})\n",
      "\n",
      "to this:\n",
      "\n",
      " BeautifulSoup(YOUR_MARKUP, \"html5lib\")\n",
      "\n",
      "  markup_type=markup_type))\n"
     ]
    }
   ],
   "source": [
    "u = 'https://en.m.wikipedia.org/wiki/List_of_best-selling_music_artists'\n",
    "s = downloadPage(u)"
   ]
  },
  {
   "cell_type": "code",
   "execution_count": 41,
   "metadata": {},
   "outputs": [],
   "source": [
    "def parseBestSalesMusic(soup):\n",
    "    \"\"\"\n",
    "    parse https://en.m.wikipedia.org/wiki/List_of_best-selling_music_artists\n",
    "    \"\"\"\n",
    "    result = list()\n",
    "    tables = s.find_all('table')\n",
    "    for table in tables:\n",
    "        for i in table.findChildren('tr'):\n",
    "            td = i.findChildren('td')\n",
    "            if td:\n",
    "                country = td[0].string\n",
    "                group = td[1].sup.a.attrs['href'].split(':')[1]\n",
    "                genre = td[3].a.text\n",
    "                total = td[4].text\n",
    "                sales = td[5].text\n",
    "                result.append(dict(country=country, group=group, genre=genre, total=total, sales=sales))\n",
    "                \n",
    "    return result"
   ]
  },
  {
   "cell_type": "code",
   "execution_count": 42,
   "metadata": {},
   "outputs": [],
   "source": [
    "d = parseBestSalesMusic(s)\n",
    "data_best_music = pd.DataFrame(d)\n",
    "saveInBase(data_best_music,'base_best_music.sqlite.db')"
   ]
  }
 ],
 "metadata": {
  "kernelspec": {
   "display_name": "Python 3",
   "language": "python",
   "name": "python3"
  },
  "language_info": {
   "codemirror_mode": {
    "name": "ipython",
    "version": 3
   },
   "file_extension": ".py",
   "mimetype": "text/x-python",
   "name": "python",
   "nbconvert_exporter": "python",
   "pygments_lexer": "ipython3",
   "version": "3.5.2"
  }
 },
 "nbformat": 4,
 "nbformat_minor": 2
}
